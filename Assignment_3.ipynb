{
 "cells": [
  {
   "cell_type": "code",
   "execution_count": 1,
   "id": "2334fcb1",
   "metadata": {},
   "outputs": [
    {
     "data": {
      "text/plain": [
       "'Define a class to represent a bank account. Include the following details like name of \\nthe depositor, account number, type of account, balance amount in the account. Write \\nmethods to assign initial values, to deposit an amount, withdraw an amount after \\nchecking the balance, to display name, account number, account type and balance'"
      ]
     },
     "execution_count": 1,
     "metadata": {},
     "output_type": "execute_result"
    }
   ],
   "source": [
    "'''Define a class to represent a bank account. Include the following details like name of \n",
    "the depositor, account number, type of account, balance amount in the account. Write \n",
    "methods to assign initial values, to deposit an amount, withdraw an amount after \n",
    "checking the balance, to display name, account number, account type and balance'''"
   ]
  },
  {
   "cell_type": "code",
   "execution_count": 4,
   "id": "1324e890",
   "metadata": {
    "scrolled": true
   },
   "outputs": [],
   "source": [
    "class BankAccount:\n",
    "    def __init__(self):\n",
    "        self.name = input(\"Enter the name of User: \")\n",
    "        self.number = int(input(\"Enter the Account number of User: \"))\n",
    "        self.type = input(\"Enter the type of Account: \")\n",
    "        self.amount = int(input(\"Enter the amount: \"))\n",
    "    \n",
    "    def ShowDetails(self):\n",
    "        print(\"Name of Depositor : \",self.name)\n",
    "        print(\"Account Number :\",self.number)\n",
    "        print(\"Type of Account : \",self.type)\n",
    "        print(\"Balance amount in account : \",self.amount)\n",
    "    \n",
    "    def DepositAmount(self):\n",
    "        self.cash = int(input(\"Enter the cash to deposit: \"))\n",
    "        self.amount += self.cash\n",
    "        print(f\"You have successfully Deposited Rs {self.cash} in your account. Now the Balance in Account is Rs {self.amount}\")\n",
    "        \n",
    "    def Withdraw(self):\n",
    "        self.withdraw = int(input(\"Enter the cash to Withdraw: \"))\n",
    "        self.amount -= self.withdraw\n",
    "        if(self.amount<0):\n",
    "            print(\"Insuffient Amount in account\")\n",
    "        else:\n",
    "            print(f\"You have successfully Withdraw Rs {self.withdraw}. Now the Balance in Account is Rs {self.amount}\")"
   ]
  },
  {
   "cell_type": "code",
   "execution_count": 5,
   "id": "13f14317",
   "metadata": {},
   "outputs": [
    {
     "name": "stdout",
     "output_type": "stream",
     "text": [
      "Enter the name of User: aditya\n",
      "Enter the Account number of User: 12121\n",
      "Enter the type of Account: saving\n",
      "Enter the amount: 50000\n",
      "Enter the cash to deposit: 50000\n",
      "You have successfully Deposited Rs 50000 in your account. Now the Balance in Account is Rs 100000\n",
      "Enter the cash to Withdraw: 50000\n",
      "You have successfully Withdraw Rs 50000. Now the Balance in Account is Rs 50000\n",
      "Name of Depositor :  aditya\n",
      "Account Number : 12121\n",
      "Type of Account :  saving\n",
      "Balance amount in account :  50000\n"
     ]
    }
   ],
   "source": [
    "client = BankAccount()\n",
    "client.DepositAmount()\n",
    "client.Withdraw()\n",
    "client.ShowDetails()"
   ]
  },
  {
   "cell_type": "code",
   "execution_count": null,
   "id": "e57d2960",
   "metadata": {},
   "outputs": [],
   "source": []
  },
  {
   "cell_type": "code",
   "execution_count": null,
   "id": "a1d75d59",
   "metadata": {},
   "outputs": [],
   "source": []
  },
  {
   "cell_type": "code",
   "execution_count": null,
   "id": "e50b47e6",
   "metadata": {},
   "outputs": [],
   "source": []
  },
  {
   "cell_type": "code",
   "execution_count": null,
   "id": "d244a529",
   "metadata": {},
   "outputs": [],
   "source": []
  },
  {
   "cell_type": "code",
   "execution_count": null,
   "id": "a54ee4b4",
   "metadata": {},
   "outputs": [],
   "source": []
  },
  {
   "cell_type": "code",
   "execution_count": null,
   "id": "4abb1e57",
   "metadata": {},
   "outputs": [],
   "source": []
  },
  {
   "cell_type": "code",
   "execution_count": null,
   "id": "fc729ca1",
   "metadata": {},
   "outputs": [],
   "source": []
  },
  {
   "cell_type": "code",
   "execution_count": null,
   "id": "74ec507f",
   "metadata": {},
   "outputs": [],
   "source": []
  },
  {
   "cell_type": "code",
   "execution_count": null,
   "id": "a118be0e",
   "metadata": {},
   "outputs": [],
   "source": []
  },
  {
   "cell_type": "code",
   "execution_count": null,
   "id": "bf6e76a6",
   "metadata": {},
   "outputs": [],
   "source": []
  },
  {
   "cell_type": "code",
   "execution_count": null,
   "id": "e7dd489c",
   "metadata": {},
   "outputs": [],
   "source": []
  }
 ],
 "metadata": {
  "kernelspec": {
   "display_name": "Python 3 (ipykernel)",
   "language": "python",
   "name": "python3"
  },
  "language_info": {
   "codemirror_mode": {
    "name": "ipython",
    "version": 3
   },
   "file_extension": ".py",
   "mimetype": "text/x-python",
   "name": "python",
   "nbconvert_exporter": "python",
   "pygments_lexer": "ipython3",
   "version": "3.9.13"
  }
 },
 "nbformat": 4,
 "nbformat_minor": 5
}
