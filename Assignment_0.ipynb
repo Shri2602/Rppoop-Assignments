{
 "cells": [
  {
   "cell_type": "code",
   "execution_count": 5,
   "id": "b89ee6a5",
   "metadata": {},
   "outputs": [],
   "source": [
    "class shape:\n",
    "    def __init__(self):\n",
    "        pass\n",
    "    def perimeter(self):\n",
    "        return 2*sum(self.sides)\n",
    "\n",
    "    def get_dimensions(self):\n",
    "        return self.sides\n",
    "\n",
    "class rectangle(shape):\n",
    "\n",
    "    def __init__(self):\n",
    "        super().__init__()\n",
    "        self.length = int(input(\"Enter the length of Rectangle : \"))\n",
    "        self.breadth = int(input(\"Enter the breadth of Rectangle : \"))\n",
    "        self.sides = [self.length,self.breadth]\n",
    "    def area(self):\n",
    "        return self.length*self.breadth\n",
    "\n",
    "    def change_dimensions(self):\n",
    "        self.length = int(input(\"Enter the new length of Rectangle : \"))\n",
    "        self.breadth = int(input(\"Enter the new breadth of Rectangle : \"))\n",
    "        self.sides = [self.length,self.breadth]\n",
    "    \n",
    "\n",
    "class square(shape):\n",
    "    def __init__(self):\n",
    "        super().__init__()\n",
    "        self.side = int(input(\"Enter the side of Square : \"))\n",
    "        self.sides = [self.side,self.side]\n",
    "    \n",
    "    def area(self):\n",
    "        return self.side*self.side\n",
    "    \n",
    "    def change_dimensions(self):\n",
    "        self.side =  int(input(\"Enter the new side of Square : \"))\n",
    "        self.sides = self.side\n",
    "\n"
   ]
  },
  {
   "cell_type": "code",
   "execution_count": null,
   "id": "b17ad951",
   "metadata": {},
   "outputs": [
    {
     "name": "stdout",
     "output_type": "stream",
     "text": [
      "Enter the length of Rectangle : 5\n",
      "Enter the breadth of Rectangle : 4\n",
      "Area of rectangle is 20\n",
      "Perimeter of rectangle is 18\n",
      "Enter the new length of Rectangle : 7\n"
     ]
    }
   ],
   "source": [
    "\n",
    "rec = rectangle()\n",
    "print(\"Area of rectangle is\",rec.area())\n",
    "print(\"Perimeter of rectangle is\",rec.perimeter())\n",
    "rec.change_dimensions()\n",
    "print(\"New length and breadth of rectangle are\",rec.get_dimensions())\n",
    "\n",
    "\n",
    "sq = square()\n",
    "print(\"Area of square is\",sq.area())\n",
    "print(\"Perimeter of square is\",sq.perimeter())\n",
    "sq.change_dimensions()\n",
    "print(\"New side of square is\",sq.get_dimensions())"
   ]
  },
  {
   "cell_type": "code",
   "execution_count": null,
   "id": "dc6a8c38",
   "metadata": {},
   "outputs": [],
   "source": []
  },
  {
   "cell_type": "code",
   "execution_count": null,
   "id": "44518fe8",
   "metadata": {},
   "outputs": [],
   "source": []
  },
  {
   "cell_type": "code",
   "execution_count": null,
   "id": "8ff1f575",
   "metadata": {},
   "outputs": [],
   "source": []
  }
 ],
 "metadata": {
  "kernelspec": {
   "display_name": "Python 3 (ipykernel)",
   "language": "python",
   "name": "python3"
  },
  "language_info": {
   "codemirror_mode": {
    "name": "ipython",
    "version": 3
   },
   "file_extension": ".py",
   "mimetype": "text/x-python",
   "name": "python",
   "nbconvert_exporter": "python",
   "pygments_lexer": "ipython3",
   "version": "3.9.13"
  }
 },
 "nbformat": 4,
 "nbformat_minor": 5
}
