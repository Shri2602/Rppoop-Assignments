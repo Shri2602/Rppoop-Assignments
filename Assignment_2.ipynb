{
 "cells": [
  {
   "cell_type": "code",
   "execution_count": 11,
   "id": "6a58c574",
   "metadata": {},
   "outputs": [],
   "source": [
    "# Assignment 2 and 0 : Polymorphism"
   ]
  },
  {
   "cell_type": "code",
   "execution_count": 12,
   "id": "7f2ae6bc",
   "metadata": {},
   "outputs": [],
   "source": [
    "class polygon:\n",
    "    def __init__(self, name):\n",
    "        self.name = name\n",
    "    \n",
    "    def area(self):\n",
    "        pass\n",
    "    \n",
    "    def perimeter(self):\n",
    "        pass\n",
    "\n",
    "    def dimensions(self):\n",
    "        pass"
   ]
  },
  {
   "cell_type": "code",
   "execution_count": 13,
   "id": "416265a0",
   "metadata": {},
   "outputs": [],
   "source": [
    "class circle(polygon):\n",
    "    def __init__(self, name, radius):\n",
    "        super().__init__(name)\n",
    "        self.radius = radius\n",
    "    \n",
    "    def area(self):\n",
    "        return 3.14 * self.radius * self.radius\n",
    "    \n",
    "    def perimeter(self):\n",
    "        return 2 * 3.14 * self.radius\n",
    "    \n",
    "    def dimensions(self, radius):\n",
    "        print(\"Radius: \", self.radius)\n",
    "        "
   ]
  },
  {
   "cell_type": "code",
   "execution_count": 14,
   "id": "ceb0de8f",
   "metadata": {},
   "outputs": [],
   "source": [
    "class rectangle(polygon):\n",
    "    def __init__(self, name, length, breadth):\n",
    "        super().__init__(name)\n",
    "        self.length = length\n",
    "        self.breadth = breadth\n",
    "    \n",
    "    def area(self):\n",
    "        return self.length * self.breadth\n",
    "    \n",
    "    def perimeter(self):\n",
    "        return 2 * (self.length + self.breadth)\n",
    "    \n",
    "    def dimensions(self, length, breadth):\n",
    "        print(\"Length: \", self.length)\n",
    "        print(\"Breadth: \", self.breadth)\n",
    "    "
   ]
  },
  {
   "cell_type": "code",
   "execution_count": 15,
   "id": "57826268",
   "metadata": {},
   "outputs": [],
   "source": [
    "class square(polygon):\n",
    "    def __init__(self, name, side):\n",
    "        super().__init__(name)\n",
    "        self.side = side\n",
    "\n",
    "    def area(self):\n",
    "        return self.side * self.side\n",
    "    \n",
    "    def perimeter(self):\n",
    "        return 4 * self.side\n",
    "    \n",
    "    def dimensions(self, side):\n",
    "        print(\"Side: \", self.side)"
   ]
  },
  {
   "cell_type": "code",
   "execution_count": 16,
   "id": "e109dd2e",
   "metadata": {},
   "outputs": [],
   "source": [
    "class pentagon(polygon):\n",
    "    def __init__(self, name, side):\n",
    "        super().__init__(name)\n",
    "        self.side = side\n",
    "\n",
    "    def area(self):\n",
    "        return (5/2) * (self.side * self.side)\n",
    "    \n",
    "    def perimeter(self):\n",
    "        return 5 * self.side\n",
    "    \n",
    "    def dimensions(self, side):\n",
    "        print(\"Side: \", self.side)"
   ]
  },
  {
   "cell_type": "code",
   "execution_count": 7,
   "id": "bcbecae5",
   "metadata": {},
   "outputs": [
    {
     "name": "stdout",
     "output_type": "stream",
     "text": [
      "Shape:  Circle\n",
      "Radius:  5.34543543\n",
      "Area:  89.72135499997977\n",
      "Perimeter:  33.569334500400004\n"
     ]
    }
   ],
   "source": [
    "circle1 = circle(\"Circle\", 5.34543543)\n",
    "print(\"Shape: \", circle1.name)\n",
    "circle1.dimensions(5.34543543)\n",
    "print(\"Area: \",circle1.area())\n",
    "print(\"Perimeter: \",circle1.perimeter())"
   ]
  },
  {
   "cell_type": "code",
   "execution_count": 8,
   "id": "30bfcb7d",
   "metadata": {},
   "outputs": [
    {
     "name": "stdout",
     "output_type": "stream",
     "text": [
      "Shape:  Rectangle\n",
      "Length:  5\n",
      "Breadth:  10\n",
      "Area:  50\n",
      "Perimeter:  30\n"
     ]
    }
   ],
   "source": [
    "rectangle1 = rectangle(\"Rectangle\", 5, 10)\n",
    "print(\"Shape: \", rectangle1.name)\n",
    "rectangle1.dimensions(5, 10)\n",
    "print(\"Area: \",rectangle1.area())\n",
    "print(\"Perimeter: \",rectangle1.perimeter())"
   ]
  },
  {
   "cell_type": "code",
   "execution_count": 9,
   "id": "22cafce9",
   "metadata": {},
   "outputs": [
    {
     "name": "stdout",
     "output_type": "stream",
     "text": [
      "Shape:  Square\n",
      "Side:  5\n",
      "Area:  25\n",
      "Perimeter:  20\n"
     ]
    }
   ],
   "source": [
    "square1 = square(\"Square\", 5)\n",
    "print(\"Shape: \", square1.name)\n",
    "square1.dimensions(5)\n",
    "print(\"Area: \",square1.area())\n",
    "print(\"Perimeter: \",square1.perimeter())"
   ]
  },
  {
   "cell_type": "code",
   "execution_count": 10,
   "id": "4586af14",
   "metadata": {},
   "outputs": [
    {
     "name": "stdout",
     "output_type": "stream",
     "text": [
      "Shape:  Pentagon\n",
      "Side:  5\n",
      "Area:  62.5\n",
      "Perimeter:  25\n"
     ]
    }
   ],
   "source": [
    "pentagon1 = pentagon(\"Pentagon\", 5)\n",
    "print(\"Shape: \", pentagon1.name)\n",
    "pentagon1.dimensions(5)\n",
    "print(\"Area: \",pentagon1.area())\n",
    "print(\"Perimeter: \",pentagon1.perimeter())"
   ]
  },
  {
   "cell_type": "code",
   "execution_count": null,
   "id": "5ac7a164",
   "metadata": {},
   "outputs": [],
   "source": []
  }
 ],
 "metadata": {
  "kernelspec": {
   "display_name": "Python 3 (ipykernel)",
   "language": "python",
   "name": "python3"
  },
  "language_info": {
   "codemirror_mode": {
    "name": "ipython",
    "version": 3
   },
   "file_extension": ".py",
   "mimetype": "text/x-python",
   "name": "python",
   "nbconvert_exporter": "python",
   "pygments_lexer": "ipython3",
   "version": "3.9.13"
  }
 },
 "nbformat": 4,
 "nbformat_minor": 5
}
